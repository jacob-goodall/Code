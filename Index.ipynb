{
 "cells": [
  {
   "cell_type": "markdown",
   "source": [
    "pip install pandas \r\n",
    "first "
   ],
   "metadata": {}
  },
  {
   "cell_type": "code",
   "execution_count": 2,
   "source": [
    "import pandas as pd\r\n",
    "\r\n",
    "with open('Level3crosses.txt', 'r') as f:\r\n",
    "    lines = f.readlines()\r\n",
    "\r\n",
    "# remove spaces\r\n",
    "lines = [line.replace(' ', ',') for line in lines]\r\n",
    "\r\n",
    "# finally, write lines in the file\r\n",
    "with open('commaed.txt', 'w') as f:\r\n",
    "    f.writelines(lines)\r\n",
    "\r\n",
    "read_file = pd.read_csv (r'commaed.txt')\r\n",
    "read_file.to_csv (r'Crosses.csv', index=None)\r\n",
    "read_file.to_csv(\"Crosses.csv\", header=[\"First Name\", \"Last Name\"], index=False)"
   ],
   "outputs": [],
   "metadata": {}
  }
 ],
 "metadata": {
  "orig_nbformat": 4,
  "language_info": {
   "name": "python",
   "version": "3.8.2",
   "mimetype": "text/x-python",
   "codemirror_mode": {
    "name": "ipython",
    "version": 3
   },
   "pygments_lexer": "ipython3",
   "nbconvert_exporter": "python",
   "file_extension": ".py"
  },
  "kernelspec": {
   "name": "python3",
   "display_name": "Python 3.8.2 64-bit"
  },
  "interpreter": {
   "hash": "1baa965d5efe3ac65b79dfc60c0d706280b1da80fedb7760faf2759126c4f253"
  }
 },
 "nbformat": 4,
 "nbformat_minor": 2
}